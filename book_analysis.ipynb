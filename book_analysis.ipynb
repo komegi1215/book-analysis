{
 "cells": [
  {
   "cell_type": "markdown",
   "id": "6ee1e253-da39-42d7-b686-13b3358e7d70",
   "metadata": {},
   "source": [
    "# Load the book"
   ]
  },
  {
   "cell_type": "code",
   "execution_count": 5,
   "id": "10a7c7e6-67d6-4df0-af04-52552dfdf6ab",
   "metadata": {},
   "outputs": [],
   "source": [
    "with open(\"miracle_in_the_andes.txt\", \"r\") as file:\n",
    "    book = file.read()"
   ]
  },
  {
   "cell_type": "code",
   "execution_count": 6,
   "id": "2b5d60c2-d2dd-4aa8-863e-2ec1c34b875a",
   "metadata": {},
   "outputs": [
    {
     "data": {
      "text/plain": [
       "str"
      ]
     },
     "execution_count": 6,
     "metadata": {},
     "output_type": "execute_result"
    }
   ],
   "source": [
    "type(book)"
   ]
  },
  {
   "cell_type": "markdown",
   "id": "0fe07a0b-bb4f-4938-bbcc-d2e10f6c68f7",
   "metadata": {},
   "source": [
    "# how many chapters?"
   ]
  },
  {
   "cell_type": "markdown",
   "id": "fdde9e01-216e-4011-ab50-1400d90cd4c7",
   "metadata": {},
   "source": [
    "### with string methods"
   ]
  },
  {
   "cell_type": "code",
   "execution_count": 7,
   "id": "ebefde4f-d22c-4a28-aa73-0f65f667c089",
   "metadata": {},
   "outputs": [
    {
     "data": {
      "text/plain": [
       "11"
      ]
     },
     "execution_count": 7,
     "metadata": {},
     "output_type": "execute_result"
    }
   ],
   "source": [
    "book.count(\"Chapter\")"
   ]
  },
  {
   "cell_type": "markdown",
   "id": "db20d73e-8a6d-4b0d-9309-30375ccacfab",
   "metadata": {},
   "source": [
    "### with regex"
   ]
  },
  {
   "cell_type": "code",
   "execution_count": 10,
   "id": "ed167b4b-889e-4dbc-8068-c31669bca0e0",
   "metadata": {},
   "outputs": [],
   "source": [
    "import re"
   ]
  },
  {
   "cell_type": "code",
   "execution_count": 15,
   "id": "bab23470-94fc-4d3d-8ffa-72c12f9243c4",
   "metadata": {},
   "outputs": [
    {
     "data": {
      "text/plain": [
       "10"
      ]
     },
     "execution_count": 15,
     "metadata": {},
     "output_type": "execute_result"
    }
   ],
   "source": [
    "pattern = re.compile(\"Chapter [0-9]+\")\n",
    "len(re.findall(pattern, book))"
   ]
  },
  {
   "cell_type": "code",
   "execution_count": null,
   "id": "8d4752d8-3fc3-4180-94cf-dfafeed4a39a",
   "metadata": {},
   "outputs": [],
   "source": []
  }
 ],
 "metadata": {
  "kernelspec": {
   "display_name": "Python 3 (ipykernel)",
   "language": "python",
   "name": "python3"
  },
  "language_info": {
   "codemirror_mode": {
    "name": "ipython",
    "version": 3
   },
   "file_extension": ".py",
   "mimetype": "text/x-python",
   "name": "python",
   "nbconvert_exporter": "python",
   "pygments_lexer": "ipython3",
   "version": "3.10.11"
  }
 },
 "nbformat": 4,
 "nbformat_minor": 5
}
